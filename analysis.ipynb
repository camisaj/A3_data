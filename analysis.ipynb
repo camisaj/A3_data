{
 "cells": [
  {
   "cell_type": "code",
   "execution_count": 1,
   "metadata": {},
   "outputs": [],
   "source": [
    "import pandas as pd\n",
    "import numpy as np\n",
    "import re\n",
    "import ast\n",
    "from IPython.display import display\n",
    "from sklearn.feature_extraction.text import TfidfVectorizer\n",
    "from sklearn.cluster import KMeans\n",
    "from textblob import TextBlob"
   ]
  },
  {
   "cell_type": "code",
   "execution_count": 3,
   "metadata": {},
   "outputs": [
    {
     "ename": "MemoryError",
     "evalue": "",
     "output_type": "error",
     "traceback": [
      "\u001b[1;31m---------------------------------------------------------------------------\u001b[0m",
      "\u001b[1;31mMemoryError\u001b[0m                               Traceback (most recent call last)",
      "Cell \u001b[1;32mIn[3], line 2\u001b[0m\n\u001b[0;32m      1\u001b[0m data \u001b[38;5;241m=\u001b[39m pd\u001b[38;5;241m.\u001b[39mread_csv(\u001b[38;5;124m'\u001b[39m\u001b[38;5;124mC:/Users/Camila Sajnin/Documents/teste/books_data.csv\u001b[39m\u001b[38;5;124m'\u001b[39m)\n\u001b[1;32m----> 2\u001b[0m rating \u001b[38;5;241m=\u001b[39m \u001b[43mpd\u001b[49m\u001b[38;5;241;43m.\u001b[39;49m\u001b[43mread_csv\u001b[49m\u001b[43m(\u001b[49m\u001b[38;5;124;43m'\u001b[39;49m\u001b[38;5;124;43mC:/Users/Camila Sajnin/Documents/teste/Books_rating.csv\u001b[39;49m\u001b[38;5;124;43m'\u001b[39;49m\u001b[43m)\u001b[49m\n",
      "File \u001b[1;32mc:\\Users\\Camila Sajnin\\AppData\\Local\\Programs\\Python\\Python39\\lib\\site-packages\\pandas\\io\\parsers\\readers.py:1026\u001b[0m, in \u001b[0;36mread_csv\u001b[1;34m(filepath_or_buffer, sep, delimiter, header, names, index_col, usecols, dtype, engine, converters, true_values, false_values, skipinitialspace, skiprows, skipfooter, nrows, na_values, keep_default_na, na_filter, verbose, skip_blank_lines, parse_dates, infer_datetime_format, keep_date_col, date_parser, date_format, dayfirst, cache_dates, iterator, chunksize, compression, thousands, decimal, lineterminator, quotechar, quoting, doublequote, escapechar, comment, encoding, encoding_errors, dialect, on_bad_lines, delim_whitespace, low_memory, memory_map, float_precision, storage_options, dtype_backend)\u001b[0m\n\u001b[0;32m   1013\u001b[0m kwds_defaults \u001b[38;5;241m=\u001b[39m _refine_defaults_read(\n\u001b[0;32m   1014\u001b[0m     dialect,\n\u001b[0;32m   1015\u001b[0m     delimiter,\n\u001b[1;32m   (...)\u001b[0m\n\u001b[0;32m   1022\u001b[0m     dtype_backend\u001b[38;5;241m=\u001b[39mdtype_backend,\n\u001b[0;32m   1023\u001b[0m )\n\u001b[0;32m   1024\u001b[0m kwds\u001b[38;5;241m.\u001b[39mupdate(kwds_defaults)\n\u001b[1;32m-> 1026\u001b[0m \u001b[38;5;28;01mreturn\u001b[39;00m \u001b[43m_read\u001b[49m\u001b[43m(\u001b[49m\u001b[43mfilepath_or_buffer\u001b[49m\u001b[43m,\u001b[49m\u001b[43m \u001b[49m\u001b[43mkwds\u001b[49m\u001b[43m)\u001b[49m\n",
      "File \u001b[1;32mc:\\Users\\Camila Sajnin\\AppData\\Local\\Programs\\Python\\Python39\\lib\\site-packages\\pandas\\io\\parsers\\readers.py:626\u001b[0m, in \u001b[0;36m_read\u001b[1;34m(filepath_or_buffer, kwds)\u001b[0m\n\u001b[0;32m    623\u001b[0m     \u001b[38;5;28;01mreturn\u001b[39;00m parser\n\u001b[0;32m    625\u001b[0m \u001b[38;5;28;01mwith\u001b[39;00m parser:\n\u001b[1;32m--> 626\u001b[0m     \u001b[38;5;28;01mreturn\u001b[39;00m \u001b[43mparser\u001b[49m\u001b[38;5;241;43m.\u001b[39;49m\u001b[43mread\u001b[49m\u001b[43m(\u001b[49m\u001b[43mnrows\u001b[49m\u001b[43m)\u001b[49m\n",
      "File \u001b[1;32mc:\\Users\\Camila Sajnin\\AppData\\Local\\Programs\\Python\\Python39\\lib\\site-packages\\pandas\\io\\parsers\\readers.py:1923\u001b[0m, in \u001b[0;36mTextFileReader.read\u001b[1;34m(self, nrows)\u001b[0m\n\u001b[0;32m   1916\u001b[0m nrows \u001b[38;5;241m=\u001b[39m validate_integer(\u001b[38;5;124m\"\u001b[39m\u001b[38;5;124mnrows\u001b[39m\u001b[38;5;124m\"\u001b[39m, nrows)\n\u001b[0;32m   1917\u001b[0m \u001b[38;5;28;01mtry\u001b[39;00m:\n\u001b[0;32m   1918\u001b[0m     \u001b[38;5;66;03m# error: \"ParserBase\" has no attribute \"read\"\u001b[39;00m\n\u001b[0;32m   1919\u001b[0m     (\n\u001b[0;32m   1920\u001b[0m         index,\n\u001b[0;32m   1921\u001b[0m         columns,\n\u001b[0;32m   1922\u001b[0m         col_dict,\n\u001b[1;32m-> 1923\u001b[0m     ) \u001b[38;5;241m=\u001b[39m \u001b[38;5;28;43mself\u001b[39;49m\u001b[38;5;241;43m.\u001b[39;49m\u001b[43m_engine\u001b[49m\u001b[38;5;241;43m.\u001b[39;49m\u001b[43mread\u001b[49m\u001b[43m(\u001b[49m\u001b[43m  \u001b[49m\u001b[38;5;66;43;03m# type: ignore[attr-defined]\u001b[39;49;00m\n\u001b[0;32m   1924\u001b[0m \u001b[43m        \u001b[49m\u001b[43mnrows\u001b[49m\n\u001b[0;32m   1925\u001b[0m \u001b[43m    \u001b[49m\u001b[43m)\u001b[49m\n\u001b[0;32m   1926\u001b[0m \u001b[38;5;28;01mexcept\u001b[39;00m \u001b[38;5;167;01mException\u001b[39;00m:\n\u001b[0;32m   1927\u001b[0m     \u001b[38;5;28mself\u001b[39m\u001b[38;5;241m.\u001b[39mclose()\n",
      "File \u001b[1;32mc:\\Users\\Camila Sajnin\\AppData\\Local\\Programs\\Python\\Python39\\lib\\site-packages\\pandas\\io\\parsers\\c_parser_wrapper.py:234\u001b[0m, in \u001b[0;36mCParserWrapper.read\u001b[1;34m(self, nrows)\u001b[0m\n\u001b[0;32m    232\u001b[0m \u001b[38;5;28;01mtry\u001b[39;00m:\n\u001b[0;32m    233\u001b[0m     \u001b[38;5;28;01mif\u001b[39;00m \u001b[38;5;28mself\u001b[39m\u001b[38;5;241m.\u001b[39mlow_memory:\n\u001b[1;32m--> 234\u001b[0m         chunks \u001b[38;5;241m=\u001b[39m \u001b[38;5;28;43mself\u001b[39;49m\u001b[38;5;241;43m.\u001b[39;49m\u001b[43m_reader\u001b[49m\u001b[38;5;241;43m.\u001b[39;49m\u001b[43mread_low_memory\u001b[49m\u001b[43m(\u001b[49m\u001b[43mnrows\u001b[49m\u001b[43m)\u001b[49m\n\u001b[0;32m    235\u001b[0m         \u001b[38;5;66;03m# destructive to chunks\u001b[39;00m\n\u001b[0;32m    236\u001b[0m         data \u001b[38;5;241m=\u001b[39m _concatenate_chunks(chunks)\n",
      "File \u001b[1;32mparsers.pyx:838\u001b[0m, in \u001b[0;36mpandas._libs.parsers.TextReader.read_low_memory\u001b[1;34m()\u001b[0m\n",
      "File \u001b[1;32mparsers.pyx:921\u001b[0m, in \u001b[0;36mpandas._libs.parsers.TextReader._read_rows\u001b[1;34m()\u001b[0m\n",
      "File \u001b[1;32mparsers.pyx:1066\u001b[0m, in \u001b[0;36mpandas._libs.parsers.TextReader._convert_column_data\u001b[1;34m()\u001b[0m\n",
      "File \u001b[1;32mparsers.pyx:1120\u001b[0m, in \u001b[0;36mpandas._libs.parsers.TextReader._convert_tokens\u001b[1;34m()\u001b[0m\n",
      "File \u001b[1;32mparsers.pyx:1272\u001b[0m, in \u001b[0;36mpandas._libs.parsers.TextReader._convert_with_dtype\u001b[1;34m()\u001b[0m\n",
      "File \u001b[1;32mparsers.pyx:1285\u001b[0m, in \u001b[0;36mpandas._libs.parsers.TextReader._string_convert\u001b[1;34m()\u001b[0m\n",
      "File \u001b[1;32mparsers.pyx:1535\u001b[0m, in \u001b[0;36mpandas._libs.parsers._string_box_utf8\u001b[1;34m()\u001b[0m\n",
      "\u001b[1;31mMemoryError\u001b[0m: "
     ]
    }
   ],
   "source": [
    "data = pd.read_csv('C:/Users/Camila Sajnin/Documents/teste/books_data.csv')\n",
    "rating = pd.read_csv('C:/Users/Camila Sajnin/Documents/teste/Books_rating.csv')"
   ]
  },
  {
   "cell_type": "code",
   "execution_count": null,
   "metadata": {},
   "outputs": [],
   "source": [
    "#Ver quais são as colunas das tabelas:\n",
    "print(\"As colunas da tabela data são:\")\n",
    "for i in data.columns:\n",
    "    print(i)\n",
    "print(\"\")\n",
    "print(\"As colunas da tabela rating são:\")\n",
    "for j in rating.columns:\n",
    "    print(j)  "
   ]
  },
  {
   "cell_type": "code",
   "execution_count": null,
   "metadata": {},
   "outputs": [],
   "source": [
    "#Ver a Tabela data\n",
    "display(data)"
   ]
  },
  {
   "cell_type": "code",
   "execution_count": null,
   "metadata": {},
   "outputs": [],
   "source": [
    "#Ver a tabela rating\n",
    "display(rating)"
   ]
  },
  {
   "cell_type": "code",
   "execution_count": null,
   "metadata": {},
   "outputs": [],
   "source": [
    "# Verificar valores nulos nas colunas \n",
    "print(\"Os nulos da tabela data são:\")\n",
    "print(data.isnull().sum())  \n",
    "\n",
    "print(\"\")\n",
    "print(\"Os nulos da tabela rating são:\")\n",
    "print(rating.isnull().sum())  "
   ]
  },
  {
   "cell_type": "code",
   "execution_count": null,
   "metadata": {},
   "outputs": [],
   "source": [
    "#Tratamento dos nulos\n",
    "data['authors'] = data['authors'].fillna('Autor não disponível')\n",
    "data['image'] = data['image'].fillna('Imagem não disponível')\n",
    "data['publisher'] = data['publisher'].fillna('Desconhecido')\n",
    "data['categories'] = data['categories'].fillna('Não informado')\n",
    "data['description'] = data['description'].fillna('Descrição não disponível')\n",
    "rating['Price'] = rating['Price'].fillna(0)\n",
    "rating['User_id'] = rating['User_id'].fillna('Desconhecido')\n",
    "rating['profileName'] = rating['profileName'].fillna('Desconhecido')\n",
    "\n",
    "# Remover as linhas onde os nulos são críticos\n",
    "data.dropna(subset=['Title'], axis=0, inplace=True)\n",
    "rating.dropna(subset=['Title'], axis=0, inplace=True)\n",
    "\n",
    "# Remover a linha de ratings count pois contém muitos nulos e conseguimos essa informação juntando as duas tabelas\n",
    "#Remover outras colunas desnecessárias\n",
    "data.drop(columns=['ratingsCount','image','previewLink','publisher','infoLink'])\n"
   ]
  },
  {
   "cell_type": "code",
   "execution_count": null,
   "metadata": {},
   "outputs": [],
   "source": [
    "#Definição de formato\n",
    "\n",
    "data['Title'] = data['Title'].astype(str)\n",
    "data['description'] = data['description'].astype(str)\n",
    "data['authors'] = data['authors'].astype(str)\n",
    "data['publishedDate'] = pd.to_datetime(data['publishedDate'], format='mixed', errors='coerce')\n",
    "data['categories'] = data['categories'].astype(str)\n",
    "rating['Id'] = rating['Id'].astype(str)\n",
    "rating['Title'] = rating['Title'].astype(str)\n",
    "rating['Price'] = rating['Price'].astype(float)\n",
    "rating['User_id'] = rating['User_id'].astype(str)\n",
    "rating['profileName'] = rating['profileName'].astype(str)\n",
    "rating['score'] = rating['score'].astype(float)\n",
    "rating['time'] = pd.to_datetime(rating['time'], unit='s')\n",
    "rating['summary'] = rating['summary'].astype(str)\n",
    "rating['text'] = rating['text'].astype(str)"
   ]
  },
  {
   "cell_type": "code",
   "execution_count": null,
   "metadata": {},
   "outputs": [],
   "source": [
    "#Converter coluna em uma lista para conseguir separar os autores\n",
    "data['authors'] = data['authors'].apply(lambda x: ast.literal_eval(x) if x.startswith('[') else [x])\n",
    "\n",
    "# Explodir a coluna 'authors' para que cada autor fique em uma linha separada\n",
    "data = data.explode('authors')"
   ]
  },
  {
   "cell_type": "code",
   "execution_count": null,
   "metadata": {},
   "outputs": [],
   "source": [
    "#Quantas categorias diferentes existem\n",
    "print(data['categories'].nunique())  "
   ]
  },
  {
   "cell_type": "code",
   "execution_count": null,
   "metadata": {},
   "outputs": [],
   "source": [
    "# Função para limpar os textos \n",
    "def preprocess_text(text):\n",
    "    text = text.lower().strip()                      \n",
    "    text = re.sub(r'[^a-záéíóúãõç ]', '', text)       \n",
    "    return text\n",
    "\n",
    "cat_preprocessadas= data['categories'].apply(preprocess_text)\n",
    "\n",
    "# Vetorização com TF-IDF a partir das categorias limpas\n",
    "vectorizer = TfidfVectorizer()\n",
    "X = vectorizer.fit_transform(cat_preprocessadas)\n",
    "\n",
    "# Clusterização com KMeans\n",
    "num_clusters = 11\n",
    "kmeans = KMeans(n_clusters=num_clusters, random_state=42)\n",
    "clusters = kmeans.fit_predict(X)\n",
    "\n",
    "# Nomeação automática dos clusters usando TF-IDF\n",
    "cluster_names = {}\n",
    "for cluster_id in range(num_clusters):\n",
    "    # Seleciona as categorias limpas correspondentes ao cluster atual\n",
    "    mask = clusters == cluster_id\n",
    "    categorias_no_cluster = cat_preprocessadas[mask].tolist()\n",
    "    \n",
    "    # Junta os textos para formar um único documento\n",
    "    texto_concatenado = ' '.join(categorias_no_cluster)\n",
    "    \n",
    "    # Vetorização desse texto para identificar a palavra com maior peso\n",
    "    tfidf = TfidfVectorizer()\n",
    "    X_cluster = tfidf.fit_transform([texto_concatenado])\n",
    "    termos = np.array(tfidf.get_feature_names_out())\n",
    "    pesos = X_cluster.toarray().flatten()\n",
    "    \n",
    "    # Escolhe a palavra mais importante para nomear o cluster\n",
    "    palavra_mais_importante = termos[np.argmax(pesos)]\n",
    "    cluster_names[cluster_id] = palavra_mais_importante.capitalize()\n",
    "\n",
    "# Renomear o cluster que ficou com \"Informado\" para \"Não informado\"\n",
    "for cluster_id, nome in cluster_names.items():\n",
    "    if nome.lower() == \"informado\":\n",
    "        cluster_names[cluster_id] = \"Não informado\"\n",
    "\n",
    "# Criar a coluna final 'categorias_agrupadas' no DataFrame utilizando o mapeamento\n",
    "data['categorias_agrupadas'] = pd.Series(clusters, index=data.index).map(cluster_names)\n",
    "\n",
    "# Exibir os grupos de categorias com seus nomes\n",
    "for nome, grupo in data.groupby('categorias_agrupadas')['categories']:\n",
    "    print(f\"\\n {nome}: {', '.join(grupo.tolist())}\")\n"
   ]
  },
  {
   "cell_type": "code",
   "execution_count": null,
   "metadata": {},
   "outputs": [],
   "source": [
    "# Gerar tabela com categorias de livros com a maior média de score\n",
    "\n",
    "#Juntar as informações utilizando Titulo como chave\n",
    "score_por_categoria = pd.merge(\n",
    "    rating[['Title', 'score', 'summary']], \n",
    "    data[['Title', 'categorias_agrupadas']], \n",
    "    on='Title', \n",
    "    how='left'\n",
    ")\n",
    "\n",
    "# Calcular a média dos scores, o número de avaliações e concatenar os resumos\n",
    "tb_media_por_categoria = score_por_categoria.groupby('categorias_agrupadas').agg(\n",
    "    media_score=('score', 'mean'),\n",
    "    num_avaliacoes=('score', 'count'),\n",
    "    resumo_categoria=('summary', lambda textos: \" \".join(textos))\n",
    ").reset_index()\n",
    "\n",
    "# Adicionar palavras que não ajudam na analise à lista de stop words\n",
    "palavras_excluidas = {\n",
    "    \"best\", \"book\", \"excellent\", \"classic\", \"good\", \"great\", \n",
    "    \"love\", \"interesting\", \"amazing\", \"awesome\", \"favorite\", \"favourite\", \n",
    "    \"must\", \"read\", \"novel\", \"story\", \"inspiring\", \"popular\"\n",
    "}\n",
    "stop_words_custom = ENGLISH_STOP_WORDS.union(palavras_excluidas)\n",
    "\n",
    "# Função para extrair as 10 palavras mais importantes usando TF-IDF\n",
    "def extract_keywords(text, max_features=10):\n",
    "    if not text.strip():\n",
    "        return \"\"\n",
    "    vectorizer = TfidfVectorizer(stop_words=stop_words_custom, max_features=max_features)\n",
    "    X = vectorizer.fit_transform([text])\n",
    "    keywords = vectorizer.get_feature_names_out()\n",
    "    return \", \".join(keywords)\n",
    "\n",
    "# Extrair as palavras-chave do resumo agregado para cada categoria\n",
    "tb_media_por_categoria['palavras_chaves'] = tb_media_por_categoria['resumo_categoria'].apply(lambda t: extract_keywords(t, max_features=10))\n",
    "tb_media_por_categoria.drop(columns=['resumo_categoria'], inplace=True)\n",
    "\n",
    "display(tb_media_por_categoria)\n"
   ]
  },
  {
   "cell_type": "code",
   "execution_count": null,
   "metadata": {},
   "outputs": [],
   "source": [
    "# Existem autores que escrevem em mais de uma categoria?\n",
    "\n",
    "data_filtrado = data[data['categorias_agrupadas'] != 'Não informado']\n",
    "\n",
    "# Agrupar por autores e agregar as categorias\n",
    "resultado = data_filtrado.groupby('authors').agg(\n",
    "    categorias_distintas=('categorias_agrupadas', lambda x: ', '.join(set(x))),\n",
    "    mais_de_uma_categoria=('categorias_agrupadas', lambda x: len(set(x)) > 1)\n",
    ").reset_index()\n",
    "\n",
    "display(resultado[resultado['mais_de_uma_categoria']])\n"
   ]
  },
  {
   "cell_type": "code",
   "execution_count": null,
   "metadata": {},
   "outputs": [],
   "source": [
    "# Gerar tabela com autores de livros e suas categorias com a maior média de score\n",
    "\n",
    "#Juntar as informações utilizando Titulo como chave\n",
    "score_por_autor = pd.merge(rating[['Title', 'score']], data[['Title', 'authors','categorias_agrupadas']], on='Title', how='left')\n",
    "\n",
    "# Calcular a média do score por autor e quantidade de avaliações\n",
    "tb_media_por_autor = score_por_autor.groupby('authors').agg(\n",
    "    media_score=('score', 'mean'),\n",
    "    num_avaliacoes=('score', 'count')\n",
    ").reset_index()\n",
    "\n",
    "tb_media_por_autor = tb_media_por_autor.sort_values(by='num_avaliacoes', ascending=False)\n",
    "\n",
    "display(tb_media_por_autor)"
   ]
  },
  {
   "cell_type": "code",
   "execution_count": null,
   "metadata": {},
   "outputs": [],
   "source": [
    "#Gerar a média do score por livro\n",
    "media_por_livro = rating.groupby('Title').agg(\n",
    "    media_score = ('score','mean')\n",
    ").reset_index()"
   ]
  },
  {
   "cell_type": "code",
   "execution_count": null,
   "metadata": {},
   "outputs": [],
   "source": [
    "#Sentimento com base no summary e nota \n",
    "\n",
    "# Função para classificar o sentimento com base na polaridade\n",
    "def categorize_sentiment(polarity):\n",
    "    if polarity > 0.6:\n",
    "        return \"Muito Positivo\"\n",
    "    elif polarity > 0.2:\n",
    "        return \"Positivo\"\n",
    "    elif polarity > -0.2:\n",
    "        return \"Neutro\"\n",
    "    elif polarity > -0.6:\n",
    "        return \"Negativo\"\n",
    "    else:\n",
    "        return \"Muito Negativo\"\n",
    "\n",
    "# Função para calcular a polaridade de cada resumo\n",
    "def analyze_sentiment(text):\n",
    "    blob = TextBlob(text)\n",
    "    return blob.sentiment.polarity\n",
    "\n",
    "# Calcular a polaridade para cada resumo e classificá-lo\n",
    "rating['polarity'] = rating['summary'].apply(analyze_sentiment)\n",
    "rating['sentiment'] = rating['polarity'].apply(categorize_sentiment)\n",
    "\n",
    "# Combinar a polaridade com o score para verificar se faz sentido\n",
    "\n",
    "# Função para combinar o sentimento e o score\n",
    "def sentiment_with_score(sentiment, score):\n",
    "    # Se o score for maior que 3 (positivo), e o sentimento for muito positivo ou positivo, é uma confirmação.\n",
    "    # Se o score for baixo, o sentimento negativo é validado\n",
    "    if score >= 4:\n",
    "        if sentiment in [\"Muito Positivo\", \"Positivo\"]:\n",
    "            return \"Confirmado Positivo\"\n",
    "        else:\n",
    "            return \"Discrepância Positiva\"\n",
    "    elif score >= 2:\n",
    "        if sentiment == \"Neutro\":\n",
    "            return \"Confirmado Neutro\"\n",
    "        else:\n",
    "            return \"Discrepância Neutra\"\n",
    "    else:\n",
    "        if sentiment in [\"Negativo\", \"Muito Negativo\"]:\n",
    "            return \"Confirmado Negativo\"\n",
    "        else:\n",
    "            return \"Discrepância Negativa\"\n",
    "\n",
    "# Aplicar a função de combinação\n",
    "rating['sentiment_with_score'] = rating.apply(lambda row: sentiment_with_score(row['sentiment'], row['score']), axis=1)\n",
    "\n",
    "display(rating[['summary', 'score', 'sentiment', 'sentiment_with_score']])"
   ]
  },
  {
   "cell_type": "code",
   "execution_count": null,
   "metadata": {},
   "outputs": [],
   "source": [
    "# Criar coluna auxiliar 'Sentimento_final'\n",
    "def categorize_overall(sentiment_with_score):\n",
    "    if sentiment_with_score.startswith(\"Confirmado\"):\n",
    "        return sentiment_with_score.split()[1].lower()\n",
    "    else:\n",
    "        return \"Inconsistente\"\n",
    "\n",
    "rating['sentimento_final'] = rating['sentiment_with_score'].apply(categorize_overall)\n",
    "rating.drop(columns=['sentiment','sentiment_with_score'])\n",
    "\n",
    "#Apagar linhas com sentimentos inconsistentes\n",
    "rating = rating[rating['sentimento_final'] != 'Inconsistente']\n"
   ]
  },
  {
   "cell_type": "code",
   "execution_count": null,
   "metadata": {},
   "outputs": [],
   "source": [
    "# Tabela geral dos sentimentos\n",
    "\n",
    "# Contar a frequência de cada sentimento \n",
    "tb_sentimento = rating['sentimento_final'].value_counts().reset_index()\n",
    "tb_sentimento.columns = ['sentimento', 'count']\n",
    "\n",
    "display(tb_sentimento)"
   ]
  },
  {
   "cell_type": "code",
   "execution_count": null,
   "metadata": {},
   "outputs": [],
   "source": [
    "# Gerar tabela com os livros com mais avaliações\n",
    "\n",
    "# Função para obter o sentimento que mais aparece\n",
    "def get_mode(series):\n",
    "    modes = series.mode()\n",
    "    return modes.iloc[0] if not modes.empty else None\n",
    "\n",
    "# Agrupar pelo Titulo: contar as avaliações e determinar o sentimento predominante\n",
    "tb_sentimento_livro = rating.groupby('Title').agg(\n",
    "    num_avaliacoes=('Title', 'count'),\n",
    "    Sentimento=('sentimento_final', lambda x: get_mode(x.str.replace(\"Confirmado \", \"\")))\n",
    ").reset_index()\n",
    "\n",
    "\n",
    "tb_sentimento_livro = tb_sentimento_livro.sort_values(by='num_avaliacoes', ascending=False)\n",
    "\n",
    "display(tb_sentimento_livro)"
   ]
  },
  {
   "cell_type": "code",
   "execution_count": null,
   "metadata": {},
   "outputs": [],
   "source": [
    "#Ver datas de avaliações\n",
    "display(rating.sort_values(by='time',ascending=False))"
   ]
  },
  {
   "cell_type": "code",
   "execution_count": null,
   "metadata": {},
   "outputs": [],
   "source": [
    "# Selecionar somente as colunas necessárias de rating e media_por_livro\n",
    "tb_avaliacoes = pd.merge(\n",
    "    rating[['Title', 'score', 'User_id', 'profileName', 'time']],\n",
    "    media_por_livro[['Title', 'media_score']],\n",
    "    on='Title',\n",
    "    how='left'\n",
    ")\n",
    "\n",
    "# Calcular o desvio relativo para cada avaliação: (|score do usuário - média do livro| / média do livro)\n",
    "tb_avaliacoes['desvio_relativo'] = (tb_avaliacoes['score'] - tb_avaliacoes['media_score']).abs() / tb_avaliacoes['media_score']\n",
    "\n",
    "# Agrupar os dados por usuário e agregar as informações desejadas:\n",
    "assertividade_usuarios = tb_avaliacoes.groupby('User_id').agg(\n",
    "    profileName=('profileName', 'first'),\n",
    "    ultima_avaliacao=('time', 'max'),\n",
    "    num_avaliacoes=('User_id', 'count'),\n",
    "    desvio_relativo_medio=('desvio_relativo', 'mean')\n",
    ").reset_index()\n",
    "\n",
    "# Filtrar os leitores assertivos: desvio médio <= 0.15 (15% de desvio), número de avaliações >= 100 e ultima avaliacão a partir de 2012(visto que a data mais recente é 2013)\n",
    "tb_leitores_assertivos = assertividade_usuarios[\n",
    "    (assertividade_usuarios['desvio_relativo_medio'] <= 0.15) &\n",
    "    (assertividade_usuarios['num_avaliacoes'] >= 100) &\n",
    "    (assertividade_usuarios['ultima_avaliacao'] >= '2012-01-01')\n",
    "]\n",
    "\n",
    "# Ordenar os leitores pelos que mais avaliaram (em ordem decrescente)\n",
    "tb_leitores_assertivos = tb_leitores_assertivos.sort_values(by='num_avaliacoes', ascending=False)\n",
    "\n",
    "display(tb_leitores_assertivos)\n"
   ]
  },
  {
   "cell_type": "code",
   "execution_count": null,
   "metadata": {},
   "outputs": [],
   "source": [
    "#Salvar tabelas para utilizar no powerbi\n",
    "tabelas = {\n",
    "    'tb_media_por_categoria': tb_media_por_categoria,\n",
    "    'tb_media_por_autor': tb_media_por_autor,\n",
    "    'tb_sentimento':tb_sentimento,\n",
    "    'tb_sentimento_livro': tb_sentimento_livro,\n",
    "    'tb_leitores_assertivos': tb_leitores_assertivos,\n",
    "}\n",
    "\n",
    "for nome, df in tabelas.items():\n",
    "    df.to_csv(f'{nome}.csv', index=False)"
   ]
  }
 ],
 "metadata": {
  "kernelspec": {
   "display_name": "Python 3",
   "language": "python",
   "name": "python3"
  },
  "language_info": {
   "codemirror_mode": {
    "name": "ipython",
    "version": 3
   },
   "file_extension": ".py",
   "mimetype": "text/x-python",
   "name": "python",
   "nbconvert_exporter": "python",
   "pygments_lexer": "ipython3",
   "version": "3.9.0"
  }
 },
 "nbformat": 4,
 "nbformat_minor": 2
}
